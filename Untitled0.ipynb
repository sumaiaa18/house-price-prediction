{
  "nbformat": 4,
  "nbformat_minor": 0,
  "metadata": {
    "colab": {
      "provenance": []
    },
    "kernelspec": {
      "name": "python3",
      "display_name": "Python 3"
    },
    "language_info": {
      "name": "python"
    }
  },
  "cells": [
    {
      "cell_type": "code",
      "execution_count": 1,
      "metadata": {
        "id": "4hsy6-_WMXcX"
      },
      "outputs": [],
      "source": [
        "import numpy as np # linear algebra\n",
        "import pandas as pd # data processing, CSV file I/O (e.g. pd.read_csv)\n",
        "import matplotlib.pyplot as plt\n",
        "import seaborn as sns\n",
        "\n",
        "import os\n",
        "for dirname, _, filenames in os.walk('/kaggle/input'):\n",
        "    for filename in filenames:\n",
        "        print(os.path.join(dirname, filename))"
      ]
    },
    {
      "cell_type": "markdown",
      "source": [
        "# New Section"
      ],
      "metadata": {
        "id": "TMJKHtz7OV6g"
      }
    },
    {
      "cell_type": "code",
      "source": [
        "df = pd.read_csv('/archive (1).zip')\n",
        "df.head()"
      ],
      "metadata": {
        "id": "kanIbZluMoIB"
      },
      "execution_count": null,
      "outputs": []
    },
    {
      "cell_type": "code",
      "source": [
        "from google.colab import drive\n",
        "drive.mount('/content/drive')"
      ],
      "metadata": {
        "id": "CcBt5cNpPX3S"
      },
      "execution_count": null,
      "outputs": []
    },
    {
      "cell_type": "code",
      "source": [
        "from sklearn.preprocessing import StandardScaler\n",
        "from sklearn.preprocessing import LabelEncoder\n",
        "from sklearn.preprocessing import OrdinalEncoder\n",
        "label_encoder = LabelEncoder()\n",
        "ordinal_encoder = OrdinalEncoder(categories=[['unfurnished','semi-furnished','furnished']])\n",
        "df['mainroad'] = label_encoder.fit_transform(df['mainroad'])\n",
        "df['guestroom'] = label_encoder.fit_transform(df['guestroom'])\n",
        "df['hotwaterheating'] = label_encoder.fit_transform(df['hotwaterheating'])\n",
        "df['airconditioning'] = label_encoder.fit_transform(df['airconditioning'])\n",
        "df['prefarea'] = label_encoder.fit_transform(df['prefarea'])\n",
        "df['furnishingstatus'] = ordinal_encoder.fit_transform(df[['furnishingstatus']])\n",
        "df['basement'] = label_encoder.fit_transform(df['basement'])\n",
        "df.head()"
      ],
      "metadata": {
        "id": "aqEQ2AB4MoVj"
      },
      "execution_count": null,
      "outputs": []
    },
    {
      "cell_type": "code",
      "source": [
        "df.describe()"
      ],
      "metadata": {
        "id": "yijLveKeMoX4"
      },
      "execution_count": null,
      "outputs": []
    },
    {
      "cell_type": "code",
      "source": [
        "df.loc[df.duplicated()]"
      ],
      "metadata": {
        "id": "XUrzj-T_MoaJ"
      },
      "execution_count": null,
      "outputs": []
    },
    {
      "cell_type": "code",
      "source": [
        "df.isna().sum()"
      ],
      "metadata": {
        "id": "exudadbaMoj_"
      },
      "execution_count": null,
      "outputs": []
    },
    {
      "cell_type": "code",
      "source": [
        "import warnings\n",
        "warnings.filterwarnings(\"ignore\")\n",
        "\n",
        "plt.figure(figsize=(20,8))\n",
        "plt.subplot(1,2,1)\n",
        "plt.title('House Price Distribution Plot')\n",
        "sns.distplot(df.price)\n",
        "\n",
        "plt.subplot(1,2,2)\n",
        "sns.boxplot(df.price)\n",
        "plt.title('House Pricing Spread')\n",
        "\n",
        "plt.show()"
      ],
      "metadata": {
        "id": "C1m7n8pRM54s"
      },
      "execution_count": null,
      "outputs": []
    },
    {
      "cell_type": "code",
      "source": [
        "cor_matrix = df[['price', 'area', 'bedrooms', 'bathrooms', 'stories', 'parking']].corr()\n",
        "plt.figure(figsize=(12, 8))\n",
        "sns.heatmap(cor_matrix, annot=True, cmap='coolwarm', linewidths=0.5)\n",
        "plt.show()"
      ],
      "metadata": {
        "id": "oVUyCeVyM56w"
      },
      "execution_count": null,
      "outputs": []
    },
    {
      "cell_type": "code",
      "source": [
        "X = df[['area', 'bedrooms', 'bathrooms', 'stories','mainroad', 'basement', 'hotwaterheating','airconditioning','parking','furnishingstatus']]\n",
        "y = df['price']"
      ],
      "metadata": {
        "id": "00EZqVm0M5-C"
      },
      "execution_count": 15,
      "outputs": []
    },
    {
      "cell_type": "code",
      "source": [
        "from sklearn.model_selection import train_test_split\n",
        "X_train, X_test, y_train, y_test=train_test_split(X,y, test_size=0.2)"
      ],
      "metadata": {
        "id": "lIP9PkHYM6BJ"
      },
      "execution_count": 16,
      "outputs": []
    },
    {
      "cell_type": "code",
      "source": [
        "X_train.shape"
      ],
      "metadata": {
        "id": "LBZws62oNPxV"
      },
      "execution_count": null,
      "outputs": []
    },
    {
      "cell_type": "code",
      "source": [
        "from sklearn.preprocessing import StandardScaler, MinMaxScaler\n",
        "scalar = StandardScaler()\n",
        "scalar.fit(X_train)\n",
        "X_train = scalar.transform(X_train)\n",
        "X_test = scalar.transform(X_test)"
      ],
      "metadata": {
        "id": "-NPybpj3NP8r"
      },
      "execution_count": 17,
      "outputs": []
    },
    {
      "cell_type": "code",
      "source": [
        "from sklearn.linear_model import LinearRegression\n",
        "from sklearn.tree import DecisionTreeRegressor\n",
        "from sklearn.svm import SVR\n",
        "from sklearn.model_selection import cross_val_score\n",
        "from sklearn.ensemble import RandomForestRegressor\n",
        "from sklearn.ensemble import GradientBoostingRegressor\n",
        "from xgboost import XGBRegressor\n",
        "\n",
        "lr = LinearRegression()\n",
        "gb = GradientBoostingRegressor()\n",
        "rf = RandomForestRegressor()\n",
        "xgb = XGBRegressor()"
      ],
      "metadata": {
        "id": "XHHxe6mvNP_5"
      },
      "execution_count": 18,
      "outputs": []
    },
    {
      "cell_type": "code",
      "source": [
        "estimators = [('lr',lr),('gb',gb),('rf',rf),('xgb',xgb)]"
      ],
      "metadata": {
        "id": "bzoyNiz_Ntjq"
      },
      "execution_count": 19,
      "outputs": []
    },
    {
      "cell_type": "code",
      "source": [
        "for estimator in estimators:\n",
        "  scores = cross_val_score(estimator[1],X_train,y_train,scoring='r2',cv=10)\n",
        "  print(estimator[0],np.round(np.mean(scores),2))"
      ],
      "metadata": {
        "id": "N5UrLsP-NugK"
      },
      "execution_count": null,
      "outputs": []
    },
    {
      "cell_type": "code",
      "source": [
        "from sklearn.metrics import r2_score\n",
        "from sklearn.ensemble import VotingRegressor\n",
        "vr = VotingRegressor(estimators)\n",
        "vr.fit(X_train,y_train)\n",
        "y_pred = vr.predict(X_test)\n",
        "r2_score(y_test, y_pred)"
      ],
      "metadata": {
        "id": "yzWfqm7gNujh"
      },
      "execution_count": null,
      "outputs": []
    },
    {
      "cell_type": "code",
      "source": [
        "fig = plt.figure()\n",
        "plt.scatter(y_test,y_pred)\n",
        "fig.suptitle('y_test vs y_pred', fontsize=20)\n",
        "plt.xlabel('y_test', fontsize=18)\n",
        "plt.ylabel('y_pred', fontsize=16)"
      ],
      "metadata": {
        "id": "W8uLkmIYM6En"
      },
      "execution_count": null,
      "outputs": []
    },
    {
      "cell_type": "code",
      "source": [
        "scores = cross_val_score(vr,X_train,y_train,scoring='r2',cv=15)\n",
        "print(\"Voting Regressor\",np.round(np.mean(scores),2))"
      ],
      "metadata": {
        "id": "Bb6EOkj1N7iK"
      },
      "execution_count": null,
      "outputs": []
    },
    {
      "cell_type": "code",
      "source": [
        "for i in range(1,4):\n",
        "    for j in range(1,4):\n",
        "        for k in range(1,4):\n",
        "            for l in range(1,4):\n",
        "                vr = VotingRegressor(estimators,weights=[i,j,k,l])\n",
        "                scores = cross_val_score(vr,X_train,y_train,scoring='r2',cv=10)\n",
        "                print(\"For i={},j={},k={},l={}\".format(i,j,k,l),np.round(np.mean(scores),2))"
      ],
      "metadata": {
        "id": "QfXqfGkTN7lp"
      },
      "execution_count": null,
      "outputs": []
    }
  ]
}